{
 "cells": [
  {
   "cell_type": "markdown",
   "metadata": {},
   "source": [
    "<h1> Peer-graded Assignment: Segmenting and Clustering Neighborhoods in Toronto</h1>"
   ]
  },
  {
   "cell_type": "markdown",
   "metadata": {},
   "source": [
    "<h2>Extracting Toronto Data Using a Web Scraping</h2>"
   ]
  },
  {
   "cell_type": "code",
   "execution_count": 1,
   "metadata": {},
   "outputs": [],
   "source": [
    "import pandas as pd\n",
    "import requests\n",
    "from bs4 import BeautifulSoup"
   ]
  },
  {
   "cell_type": "markdown",
   "metadata": {},
   "source": [
    "### Using Webscraping to Extract Toronto Data"
   ]
  },
  {
   "cell_type": "code",
   "execution_count": 2,
   "metadata": {},
   "outputs": [],
   "source": [
    "# Download the contents of the web\n",
    "url = 'https://en.wikipedia.org/wiki/List_of_postal_codes_of_Canada:_M'\n",
    "\n",
    "# Use get to download the content of the webpage\n",
    "\n",
    "html_data = requests.get(url).text"
   ]
  },
  {
   "cell_type": "code",
   "execution_count": 3,
   "metadata": {},
   "outputs": [],
   "source": [
    "#Parse the html data using beautiful_soup.\n",
    "soup = BeautifulSoup(html_data,\"html5lib\")"
   ]
  },
  {
   "cell_type": "code",
   "execution_count": 4,
   "metadata": {},
   "outputs": [
    {
     "name": "stdout",
     "output_type": "stream",
     "text": [
      "/wiki/Wikipedia:Protection_policy#semi\n",
      "#mw-head\n",
      "#searchInput\n",
      "/wiki/Postal_codes_in_Canada\n",
      "/wiki/Toronto\n",
      "/wiki/Ontario\n",
      "/wiki/Canada_Post\n",
      "#cite_note-1\n",
      "/wiki/Mobile_app\n",
      "/wiki/Smartphones\n",
      "/wiki/IPhone\n",
      "/wiki/BlackBerry\n",
      "#cite_note-2\n",
      "/wiki/CD-ROM\n",
      "/wiki/Toronto\n",
      "/wiki/Postal_codes_in_Canada#Forward_sortation_areas\n",
      "/wiki/Amazon_(company)\n",
      "/wiki/North_York\n",
      "/wiki/Parkwoods\n",
      "/wiki/North_York\n",
      "/wiki/Victoria_Village\n",
      "/wiki/Downtown_Toronto\n",
      "/wiki/Regent_Park\n",
      "/wiki/Harbourfront,_Toronto\n",
      "/wiki/North_York\n",
      "/wiki/Lawrence_Manor\n",
      "/wiki/Lawrence_Heights\n",
      "/wiki/Queen%27s_Park_(Toronto)\n",
      "/wiki/Etobicoke\n",
      "/wiki/Islington_Avenue\n",
      "/wiki/Scarborough,_Toronto\n",
      "/wiki/Malvern,_Toronto\n",
      "/wiki/Rouge,_Toronto\n",
      "/wiki/North_York\n",
      "/wiki/Don_Mills\n",
      "/wiki/East_York\n",
      "/wiki/Parkview_Hill\n",
      "/wiki/Woodbine_Gardens\n",
      "/wiki/Downtown_Toronto\n",
      "/wiki/Garden_District,_Toronto\n",
      "/wiki/Ryerson_University\n",
      "/wiki/North_York\n",
      "/wiki/Etobicoke\n",
      "/wiki/West_Deane_Park\n",
      "/wiki/Princess_Gardens\n",
      "/wiki/Martin_Grove_Road\n",
      "/wiki/Islington,_Toronto\n",
      "/wiki/Scarborough,_Toronto\n",
      "/wiki/Rouge_Hill\n",
      "/wiki/Port_Union,_Ontario\n",
      "/wiki/Highland_Creek,_Toronto\n",
      "/wiki/North_York\n",
      "/wiki/Don_Mills\n",
      "/wiki/Flemingdon_Park\n",
      "/wiki/East_York\n",
      "/wiki/Woodbine_Heights\n",
      "/wiki/Downtown_Toronto\n",
      "/wiki/St._James_Town\n",
      "/wiki/York,_Toronto\n",
      "/wiki/Humewood-Cedarvale\n",
      "/wiki/Etobicoke\n",
      "/wiki/Markland_Wood\n",
      "/wiki/Scarborough,_Toronto\n",
      "/wiki/Guildwood\n",
      "/wiki/Morningside,_Toronto\n",
      "/wiki/West_Hill,_Toronto\n",
      "/wiki/The_Beaches\n",
      "/wiki/Downtown_Toronto\n",
      "/wiki/York,_Toronto\n",
      "/wiki/Caledonia-Fairbanks\n",
      "/wiki/Scarborough,_Toronto\n",
      "/wiki/Woburn,_Toronto\n",
      "/wiki/East_York\n",
      "/wiki/Leaside\n",
      "/wiki/Downtown_Toronto\n",
      "/wiki/Bay_Street\n",
      "/wiki/Downtown_Toronto\n",
      "/wiki/Scarborough,_Toronto\n",
      "/wiki/Woburn,_Toronto\n",
      "/wiki/North_York\n",
      "/wiki/Hillcrest_Village\n",
      "/wiki/North_York\n",
      "/wiki/Bathurst_Manor\n",
      "/wiki/Wilson_Heights,_Toronto\n",
      "/wiki/Downsview\n",
      "/wiki/East_York\n",
      "/wiki/Thorncliffe_Park\n",
      "/wiki/Downtown_Toronto\n",
      "/wiki/Richmond_Street\n",
      "/wiki/King_Street_(Toronto)\n",
      "/wiki/Dufferin_Street\n",
      "/wiki/Dovercourt_Village\n",
      "/wiki/Scarborough,_Toronto\n",
      "/wiki/Scarborough_Village\n",
      "/wiki/North_York\n",
      "/wiki/Henry_Farm\n",
      "/wiki/North_York\n",
      "/wiki/York_University_Heights\n",
      "/wiki/York_University\n",
      "/wiki/East_York\n",
      "/wiki/The_Danforth\n",
      "/wiki/Downtown_Toronto\n",
      "/wiki/Harbourfront_(Toronto)\n",
      "/wiki/Union_Station_(Toronto)\n",
      "/wiki/Toronto_Islands\n",
      "/wiki/Little_Portugal,_Toronto\n",
      "/wiki/Trinity%E2%80%93Bellwoods\n",
      "/wiki/Scarborough,_Toronto\n",
      "/wiki/Kennedy_Park,_Toronto\n",
      "/wiki/Ionview\n",
      "/wiki/Birchmount_Park\n",
      "/wiki/North_York\n",
      "/wiki/Bayview_Village\n",
      "/wiki/North_York\n",
      "/wiki/Downsview\n",
      "/wiki/Canadian_Forces_Base_Toronto\n",
      "/wiki/The_Danforth\n",
      "/wiki/Riverdale,_Toronto\n",
      "/wiki/Downtown_Toronto\n",
      "/wiki/Toronto_Dominion_Centre\n",
      "/wiki/Design_Exchange\n",
      "/wiki/Brockton,_Toronto\n",
      "/wiki/Parkdale_Village\n",
      "/wiki/Exhibition_Place\n",
      "/wiki/Scarborough,_Toronto\n",
      "/wiki/Golden_Mile,_Toronto\n",
      "/wiki/Clairlea\n",
      "/wiki/Oakridge,_Toronto\n",
      "/wiki/North_York\n",
      "/wiki/York_Mills\n",
      "/wiki/North_York\n",
      "/wiki/Downsview\n",
      "/wiki/Gerrard_Street_(Toronto)\n",
      "/wiki/The_Beaches\n",
      "/wiki/Downtown_Toronto\n",
      "/wiki/Commerce_Court\n",
      "/wiki/Hotel_Victoria_(Toronto)\n",
      "/wiki/North_York\n",
      "/wiki/Maple_Leaf,_Toronto\n",
      "/wiki/North_York\n",
      "/wiki/Humber_Summit\n",
      "/wiki/Scarborough,_Toronto\n",
      "/wiki/Cliffside,_Toronto\n",
      "/wiki/Cliffcrest\n",
      "/wiki/Scarborough_Village\n",
      "/wiki/North_York\n",
      "/wiki/Newtonbrook\n",
      "/wiki/North_York\n",
      "/wiki/Downsview\n",
      "/wiki/North_York\n",
      "/wiki/Bedford_Park,_Toronto\n",
      "/wiki/Lawrence_Manor\n",
      "/wiki/York,_Toronto\n",
      "/wiki/Mount_Dennis\n",
      "/wiki/Silverthorn,_Toronto\n",
      "/wiki/North_York\n",
      "/wiki/Humberlea\n",
      "/wiki/Emery,_Toronto\n",
      "/wiki/Scarborough,_Toronto\n",
      "/wiki/Birch_Cliff\n",
      "/wiki/Cliffside,_Toronto\n",
      "/wiki/North_York\n",
      "/wiki/Willowdale,_Toronto\n",
      "/wiki/North_York\n",
      "/wiki/Downsview\n",
      "/wiki/Lawrence_Park,_Toronto\n",
      "/wiki/York,_Toronto\n",
      "/wiki/Runnymede,_Toronto\n",
      "/wiki/The_Junction\n",
      "/wiki/York,_Toronto\n",
      "/wiki/Weston,_Toronto\n",
      "/wiki/Scarborough,_Toronto\n",
      "/wiki/Dorset_Park\n",
      "/wiki/Wexford_Heights\n",
      "/wiki/Scarborough_Town_Centre\n",
      "/wiki/North_York\n",
      "/wiki/York_Mills\n",
      "/wiki/Davisville_Village\n",
      "/wiki/Forest_Hill,_Toronto\n",
      "/wiki/High_Park\n",
      "/wiki/The_Junction\n",
      "/wiki/Etobicoke\n",
      "/wiki/Scarborough,_Toronto\n",
      "/wiki/Wexford,_Toronto\n",
      "/wiki/Maryvale,_Toronto\n",
      "/wiki/North_York\n",
      "/wiki/Willowdale,_Toronto\n",
      "/wiki/North_Toronto\n",
      "/wiki/The_Annex\n",
      "/wiki/North_Midtown,_Toronto\n",
      "/wiki/Yorkville,_Toronto\n",
      "/wiki/Parkdale,_Toronto\n",
      "/wiki/Roncesvalles,_Toronto\n",
      "/wiki/Mississauga\n",
      "/wiki/Etobicoke\n",
      "/wiki/Kingsview_Village\n",
      "/wiki/Scarborough,_Toronto\n",
      "/wiki/Agincourt,_Toronto\n",
      "/wiki/Davisville_Village\n",
      "/wiki/Downtown_Toronto\n",
      "/wiki/University_of_Toronto\n",
      "/wiki/Runnymede,_Toronto\n",
      "/wiki/Swansea,_Toronto\n",
      "/wiki/Scarborough,_Toronto\n",
      "/wiki/Tam_O%27Shanter,_Ontario\n",
      "/wiki/Sullivan,_Toronto\n",
      "/wiki/Moore_Park,_Toronto\n",
      "/wiki/Summerhill,_Toronto\n",
      "/wiki/Downtown_Toronto\n",
      "/wiki/Kensington_Market\n",
      "/wiki/Chinatown,_Toronto\n",
      "/wiki/Grange_Park_(Toronto)\n",
      "/wiki/Scarborough,_Toronto\n",
      "/wiki/Milliken,_Toronto\n",
      "/wiki/Agincourt_North\n",
      "/wiki/Steeles,_Toronto\n",
      "/wiki/L%27Amoreaux\n",
      "/wiki/Summerhill,_Toronto\n",
      "/wiki/Rathnelly\n",
      "/wiki/South_Hill,_Toronto\n",
      "/wiki/Forest_Hill,_Toronto\n",
      "/wiki/Deer_Park,_Toronto\n",
      "/wiki/Downtown_Toronto\n",
      "/wiki/CN_Tower\n",
      "/wiki/King_and_Spadina\n",
      "/wiki/Railway_Lands\n",
      "/wiki/Harbourfront_(Toronto)\n",
      "/wiki/South_Niagara\n",
      "/wiki/Billy_Bishop_Toronto_City_Airport\n",
      "/wiki/Etobicoke\n",
      "/wiki/New_Toronto\n",
      "/wiki/Mimico\n",
      "/wiki/Etobicoke\n",
      "/wiki/South_Steeles\n",
      "/wiki/Silverstone,_Toronto\n",
      "/wiki/Jamestown,_Toronto\n",
      "/wiki/Mount_Olive,_Toronto\n",
      "/wiki/Beaumond_Heights\n",
      "/wiki/Thistletown\n",
      "/wiki/Scarborough,_Toronto\n",
      "/wiki/Steeles,_Toronto\n",
      "/wiki/L%27Amoreaux\n",
      "/wiki/Downtown_Toronto\n",
      "/wiki/Rosedale,_Toronto\n",
      "/wiki/Downtown_Toronto\n",
      "/wiki/Etobicoke\n",
      "/wiki/Alderwood,_Toronto\n",
      "/wiki/Long_Branch,_Toronto\n",
      "/wiki/Etobicoke\n",
      "/wiki/Clairville,_Toronto\n",
      "/wiki/Humberwood\n",
      "/wiki/Woodbine_Downs\n",
      "/wiki/Rexdale\n",
      "/wiki/Elms,_Toronto\n",
      "/wiki/Scarborough,_Toronto\n",
      "/wiki/Upper_Rouge\n",
      "/wiki/Downtown_Toronto\n",
      "/wiki/St._James_Town\n",
      "/wiki/Cabbagetown_(Toronto)\n",
      "/wiki/Downtown_Toronto\n",
      "/wiki/First_Canadian_Place\n",
      "/wiki/PATH_(Toronto)\n",
      "/wiki/Etobicoke\n",
      "/wiki/The_Kingsway,_Toronto\n",
      "/wiki/Old_Mill,_Toronto\n",
      "/wiki/Downtown_Toronto\n",
      "/wiki/Church_and_Wellesley\n",
      "/wiki/Business_reply_mail\n",
      "/wiki/Etobicoke\n",
      "/wiki/Old_Mill,_Toronto\n",
      "/wiki/Sunnylea\n",
      "/wiki/Humber_Bay\n",
      "/wiki/Mimico\n",
      "/wiki/The_Queensway_(Toronto)\n",
      "/wiki/Etobicoke\n",
      "/wiki/Mimico\n",
      "/wiki/The_Queensway\n",
      "#cite_note-statcan-3\n",
      "#cite_note-statcan-3\n",
      "#cite_ref-1\n",
      "https://www.canadapost.ca/cpotools/apps/fpc/personal/findByCity?execution=e2s1\n",
      "#cite_ref-2\n",
      "https://web.archive.org/web/20110519093024/http://www.canadapost.ca/cpo/mc/personal/tools/mobileapp/default.jsf\n",
      "http://www.canadapost.ca/cpo/mc/personal/tools/mobileapp/default.jsf\n",
      "#cite_ref-statcan_3-0\n",
      "#cite_ref-statcan_3-1\n",
      "http://www12.statcan.ca/english/census06/data/popdwell/Table.cfm?T=1201&SR=1&S=0&O=A&RPP=9999&PR=0&CMA=0\n",
      "/wiki/File:Flag_of_Canada.svg\n",
      "/wiki/Postal_codes_in_Canada\n",
      "/wiki/File:Canadian_postal_district_map_(without_legends).svg\n",
      "/wiki/Newfoundland_and_Labrador\n",
      "/wiki/Nova_Scotia\n",
      "/wiki/Prince_Edward_Island\n",
      "/wiki/New_Brunswick\n",
      "/wiki/Quebec\n",
      "/wiki/Ontario\n",
      "/wiki/Manitoba\n",
      "/wiki/Saskatchewan\n",
      "/wiki/Alberta\n",
      "/wiki/British_Columbia\n",
      "/wiki/Nunavut\n",
      "/wiki/Northwest_Territories\n",
      "/wiki/Yukon\n",
      "/wiki/List_of_postal_codes_of_Canada:_A\n",
      "/wiki/List_of_postal_codes_of_Canada:_B\n",
      "/wiki/List_of_postal_codes_of_Canada:_C\n",
      "/wiki/List_of_postal_codes_of_Canada:_E\n",
      "/wiki/List_of_postal_codes_of_Canada:_G\n",
      "/wiki/List_of_postal_codes_of_Canada:_H\n",
      "/wiki/List_of_postal_codes_of_Canada:_J\n",
      "/wiki/List_of_postal_codes_of_Canada:_K\n",
      "/wiki/List_of_postal_codes_of_Canada:_L\n",
      "/wiki/List_of_postal_codes_of_Canada:_N\n",
      "/wiki/List_of_postal_codes_of_Canada:_P\n",
      "/wiki/List_of_postal_codes_of_Canada:_R\n",
      "/wiki/List_of_postal_codes_of_Canada:_S\n",
      "/wiki/List_of_postal_codes_of_Canada:_T\n",
      "/wiki/List_of_postal_codes_of_Canada:_V\n",
      "/wiki/List_of_postal_codes_of_Canada:_X\n",
      "/wiki/List_of_postal_codes_of_Canada:_Y\n",
      "https://en.wikipedia.org/w/index.php?title=List_of_postal_codes_of_Canada:_M&oldid=1019189119\n",
      "/wiki/Help:Category\n",
      "/wiki/Category:Communications_in_Ontario\n",
      "/wiki/Category:Postal_codes_in_Canada\n",
      "/wiki/Category:Toronto\n",
      "/wiki/Category:Ontario-related_lists\n",
      "/wiki/Category:Articles_with_short_description\n",
      "/wiki/Category:Short_description_is_different_from_Wikidata\n",
      "/wiki/Category:Wikipedia_semi-protected_pages\n",
      "/wiki/Special:MyTalk\n",
      "/wiki/Special:MyContributions\n",
      "/w/index.php?title=Special:CreateAccount&returnto=List+of+postal+codes+of+Canada%3A+M\n",
      "/w/index.php?title=Special:UserLogin&returnto=List+of+postal+codes+of+Canada%3A+M\n",
      "/wiki/List_of_postal_codes_of_Canada:_M\n",
      "/wiki/Talk:List_of_postal_codes_of_Canada:_M\n",
      "/wiki/List_of_postal_codes_of_Canada:_M\n",
      "/w/index.php?title=List_of_postal_codes_of_Canada:_M&action=edit\n",
      "/w/index.php?title=List_of_postal_codes_of_Canada:_M&action=history\n",
      "/wiki/Main_Page\n",
      "/wiki/Main_Page\n",
      "/wiki/Wikipedia:Contents\n",
      "/wiki/Portal:Current_events\n",
      "/wiki/Special:Random\n",
      "/wiki/Wikipedia:About\n",
      "//en.wikipedia.org/wiki/Wikipedia:Contact_us\n",
      "https://donate.wikimedia.org/wiki/Special:FundraiserRedirector?utm_source=donate&utm_medium=sidebar&utm_campaign=C13_en.wikipedia.org&uselang=en\n",
      "/wiki/Help:Contents\n",
      "/wiki/Help:Introduction\n",
      "/wiki/Wikipedia:Community_portal\n",
      "/wiki/Special:RecentChanges\n",
      "/wiki/Wikipedia:File_Upload_Wizard\n",
      "/wiki/Special:WhatLinksHere/List_of_postal_codes_of_Canada:_M\n",
      "/wiki/Special:RecentChangesLinked/List_of_postal_codes_of_Canada:_M\n",
      "/wiki/Wikipedia:File_Upload_Wizard\n",
      "/wiki/Special:SpecialPages\n",
      "/w/index.php?title=List_of_postal_codes_of_Canada:_M&oldid=1019189119\n",
      "/w/index.php?title=List_of_postal_codes_of_Canada:_M&action=info\n",
      "/w/index.php?title=Special:CiteThisPage&page=List_of_postal_codes_of_Canada%3A_M&id=1019189119&wpFormIdentifier=titleform\n",
      "https://www.wikidata.org/wiki/Special:EntityPage/Q3248240\n",
      "/w/index.php?title=Special:DownloadAsPdf&page=List_of_postal_codes_of_Canada%3A_M&action=show-download-screen\n",
      "/w/index.php?title=List_of_postal_codes_of_Canada:_M&printable=yes\n",
      "https://fr.wikipedia.org/wiki/Liste_des_codes_postaux_canadiens_d%C3%A9butant_par_M\n",
      "https://www.wikidata.org/wiki/Special:EntityPage/Q3248240#sitelinks-wikipedia\n",
      "//en.wikipedia.org/wiki/Wikipedia:Text_of_Creative_Commons_Attribution-ShareAlike_3.0_Unported_License\n",
      "//creativecommons.org/licenses/by-sa/3.0/\n",
      "//foundation.wikimedia.org/wiki/Terms_of_Use\n",
      "//foundation.wikimedia.org/wiki/Privacy_policy\n",
      "//www.wikimediafoundation.org/\n",
      "https://foundation.wikimedia.org/wiki/Privacy_policy\n",
      "/wiki/Wikipedia:About\n",
      "/wiki/Wikipedia:General_disclaimer\n",
      "//en.wikipedia.org/wiki/Wikipedia:Contact_us\n",
      "//en.m.wikipedia.org/w/index.php?title=List_of_postal_codes_of_Canada:_M&mobileaction=toggle_view_mobile\n",
      "https://www.mediawiki.org/wiki/Special:MyLanguage/How_to_contribute\n",
      "https://stats.wikimedia.org/#/en.wikipedia.org\n",
      "https://foundation.wikimedia.org/wiki/Cookie_statement\n",
      "https://wikimediafoundation.org/\n",
      "https://www.mediawiki.org/\n"
     ]
    }
   ],
   "source": [
    "for link in soup.find_all('a',href=True):  # in html anchor/link is represented by the tag <a>\n",
    "\n",
    "    print(link.get('href'))"
   ]
  },
  {
   "cell_type": "code",
   "execution_count": 5,
   "metadata": {},
   "outputs": [],
   "source": [
    "# Create a list\n",
    "table_contents = []"
   ]
  },
  {
   "cell_type": "code",
   "execution_count": 6,
   "metadata": {},
   "outputs": [],
   "source": [
    "table = soup.find('table')"
   ]
  },
  {
   "cell_type": "code",
   "execution_count": 7,
   "metadata": {},
   "outputs": [],
   "source": [
    "for row in table.findAll('td'):\n",
    "    cell = {}\n",
    "    if row.span.text=='Not assigned':\n",
    "        pass\n",
    "    else:\n",
    "        cell['PostalCode'] = row.p.text[:3]\n",
    "        cell['Borough'] = (row.span.text).split('(')[0]\n",
    "        cell['Neighborhood'] = (((((row.span.text).split('(')[1]).strip(')')).replace(' /',',')).replace(')',' ')).strip(' ')\n",
    "        table_contents.append(cell)\n"
   ]
  },
  {
   "cell_type": "code",
   "execution_count": 8,
   "metadata": {},
   "outputs": [],
   "source": [
    "# print(table_contents)\n",
    "df=pd.DataFrame(table_contents)\n",
    "df['Borough']=df['Borough'].replace({'Downtown TorontoStn A PO Boxes25 The Esplanade':'Downtown Toronto Stn A',\n",
    "                                             'East TorontoBusiness reply mail Processing Centre969 Eastern':'East Toronto Business',\n",
    "                                             'EtobicokeNorthwest':'Etobicoke Northwest','East YorkEast Toronto':'East York/East Toronto',\n",
    "                                             'MississaugaCanada Post Gateway Processing Centre':'Mississauga'})"
   ]
  },
  {
   "cell_type": "code",
   "execution_count": 9,
   "metadata": {},
   "outputs": [
    {
     "data": {
      "text/html": [
       "<div>\n",
       "<style scoped>\n",
       "    .dataframe tbody tr th:only-of-type {\n",
       "        vertical-align: middle;\n",
       "    }\n",
       "\n",
       "    .dataframe tbody tr th {\n",
       "        vertical-align: top;\n",
       "    }\n",
       "\n",
       "    .dataframe thead th {\n",
       "        text-align: right;\n",
       "    }\n",
       "</style>\n",
       "<table border=\"1\" class=\"dataframe\">\n",
       "  <thead>\n",
       "    <tr style=\"text-align: right;\">\n",
       "      <th></th>\n",
       "      <th>PostalCode</th>\n",
       "      <th>Borough</th>\n",
       "      <th>Neighborhood</th>\n",
       "    </tr>\n",
       "  </thead>\n",
       "  <tbody>\n",
       "    <tr>\n",
       "      <th>0</th>\n",
       "      <td>M3A</td>\n",
       "      <td>North York</td>\n",
       "      <td>Parkwoods</td>\n",
       "    </tr>\n",
       "    <tr>\n",
       "      <th>1</th>\n",
       "      <td>M4A</td>\n",
       "      <td>North York</td>\n",
       "      <td>Victoria Village</td>\n",
       "    </tr>\n",
       "    <tr>\n",
       "      <th>2</th>\n",
       "      <td>M5A</td>\n",
       "      <td>Downtown Toronto</td>\n",
       "      <td>Regent Park, Harbourfront</td>\n",
       "    </tr>\n",
       "    <tr>\n",
       "      <th>3</th>\n",
       "      <td>M6A</td>\n",
       "      <td>North York</td>\n",
       "      <td>Lawrence Manor, Lawrence Heights</td>\n",
       "    </tr>\n",
       "    <tr>\n",
       "      <th>4</th>\n",
       "      <td>M7A</td>\n",
       "      <td>Queen's Park</td>\n",
       "      <td>Ontario Provincial Government</td>\n",
       "    </tr>\n",
       "  </tbody>\n",
       "</table>\n",
       "</div>"
      ],
      "text/plain": [
       "  PostalCode           Borough                      Neighborhood\n",
       "0        M3A        North York                         Parkwoods\n",
       "1        M4A        North York                  Victoria Village\n",
       "2        M5A  Downtown Toronto         Regent Park, Harbourfront\n",
       "3        M6A        North York  Lawrence Manor, Lawrence Heights\n",
       "4        M7A      Queen's Park     Ontario Provincial Government"
      ]
     },
     "execution_count": 9,
     "metadata": {},
     "output_type": "execute_result"
    }
   ],
   "source": [
    "df.head()"
   ]
  },
  {
   "cell_type": "code",
   "execution_count": 10,
   "metadata": {},
   "outputs": [
    {
     "name": "stdout",
     "output_type": "stream",
     "text": [
      "<class 'pandas.core.frame.DataFrame'>\n",
      "RangeIndex: 103 entries, 0 to 102\n",
      "Data columns (total 3 columns):\n",
      " #   Column        Non-Null Count  Dtype \n",
      "---  ------        --------------  ----- \n",
      " 0   PostalCode    103 non-null    object\n",
      " 1   Borough       103 non-null    object\n",
      " 2   Neighborhood  103 non-null    object\n",
      "dtypes: object(3)\n",
      "memory usage: 2.5+ KB\n"
     ]
    }
   ],
   "source": [
    "df.info()"
   ]
  },
  {
   "cell_type": "code",
   "execution_count": 11,
   "metadata": {},
   "outputs": [
    {
     "data": {
      "text/plain": [
       "PostalCode      0\n",
       "Borough         0\n",
       "Neighborhood    0\n",
       "dtype: int64"
      ]
     },
     "execution_count": 11,
     "metadata": {},
     "output_type": "execute_result"
    }
   ],
   "source": [
    "#Verify  if there is need to clean something\n",
    "\n",
    "df.isnull().sum()"
   ]
  },
  {
   "cell_type": "markdown",
   "metadata": {},
   "source": [
    "There is no ned to clean the data."
   ]
  },
  {
   "cell_type": "code",
   "execution_count": 12,
   "metadata": {},
   "outputs": [
    {
     "data": {
      "text/plain": [
       "(103, 3)"
      ]
     },
     "execution_count": 12,
     "metadata": {},
     "output_type": "execute_result"
    }
   ],
   "source": [
    "df.shape"
   ]
  },
  {
   "cell_type": "code",
   "execution_count": null,
   "metadata": {},
   "outputs": [],
   "source": []
  },
  {
   "cell_type": "markdown",
   "metadata": {},
   "source": [
    "### Latitude and Longitude"
   ]
  },
  {
   "cell_type": "code",
   "execution_count": 13,
   "metadata": {},
   "outputs": [
    {
     "name": "stdout",
     "output_type": "stream",
     "text": [
      "  Postal Code   Latitude  Longitude\n",
      "0         M1B  43.806686 -79.194353\n",
      "1         M1C  43.784535 -79.160497\n",
      "2         M1E  43.763573 -79.188711\n",
      "3         M1G  43.770992 -79.216917\n",
      "4         M1H  43.773136 -79.239476\n"
     ]
    }
   ],
   "source": [
    "# Import package\n",
    "from urllib.request import urlretrieve\n",
    "\n",
    "\n",
    "# Assign url of file: url\n",
    "url2 = 'https://cf-courses-data.s3.us.cloud-object-storage.appdomain.cloud/IBMDeveloperSkillsNetwork-DS0701EN-SkillsNetwork/labs_v1/Geospatial_Coordinates.csv'\n",
    "\n",
    "# Save file locally\n",
    "urlretrieve(url2, 'latitude-longitude.csv' )\n",
    "\n",
    "# Read file into a DataFrame and print its head\n",
    "df2 = pd.read_csv('latitude-longitude.csv', sep=',')\n",
    "print(df2.head())"
   ]
  },
  {
   "cell_type": "code",
   "execution_count": 14,
   "metadata": {},
   "outputs": [
    {
     "data": {
      "text/plain": [
       "(103, 3)"
      ]
     },
     "execution_count": 14,
     "metadata": {},
     "output_type": "execute_result"
    }
   ],
   "source": [
    "df2.shape"
   ]
  },
  {
   "cell_type": "code",
   "execution_count": 15,
   "metadata": {},
   "outputs": [
    {
     "data": {
      "text/plain": [
       "Index(['Postal Code', 'Latitude', 'Longitude'], dtype='object')"
      ]
     },
     "execution_count": 15,
     "metadata": {},
     "output_type": "execute_result"
    }
   ],
   "source": [
    "df2.columns"
   ]
  },
  {
   "cell_type": "code",
   "execution_count": 19,
   "metadata": {},
   "outputs": [],
   "source": [
    "# Change the name of \"Postal Code\" to \"PostalCode\"\n",
    "\n",
    "df2.rename(columns={'Postal Code': \"PostalCode\"}, inplace=True)\n"
   ]
  },
  {
   "cell_type": "code",
   "execution_count": 20,
   "metadata": {},
   "outputs": [
    {
     "data": {
      "text/html": [
       "<div>\n",
       "<style scoped>\n",
       "    .dataframe tbody tr th:only-of-type {\n",
       "        vertical-align: middle;\n",
       "    }\n",
       "\n",
       "    .dataframe tbody tr th {\n",
       "        vertical-align: top;\n",
       "    }\n",
       "\n",
       "    .dataframe thead th {\n",
       "        text-align: right;\n",
       "    }\n",
       "</style>\n",
       "<table border=\"1\" class=\"dataframe\">\n",
       "  <thead>\n",
       "    <tr style=\"text-align: right;\">\n",
       "      <th></th>\n",
       "      <th>PostalCode</th>\n",
       "      <th>Latitude</th>\n",
       "      <th>Longitude</th>\n",
       "    </tr>\n",
       "  </thead>\n",
       "  <tbody>\n",
       "    <tr>\n",
       "      <th>0</th>\n",
       "      <td>M1B</td>\n",
       "      <td>43.806686</td>\n",
       "      <td>-79.194353</td>\n",
       "    </tr>\n",
       "    <tr>\n",
       "      <th>1</th>\n",
       "      <td>M1C</td>\n",
       "      <td>43.784535</td>\n",
       "      <td>-79.160497</td>\n",
       "    </tr>\n",
       "    <tr>\n",
       "      <th>2</th>\n",
       "      <td>M1E</td>\n",
       "      <td>43.763573</td>\n",
       "      <td>-79.188711</td>\n",
       "    </tr>\n",
       "    <tr>\n",
       "      <th>3</th>\n",
       "      <td>M1G</td>\n",
       "      <td>43.770992</td>\n",
       "      <td>-79.216917</td>\n",
       "    </tr>\n",
       "    <tr>\n",
       "      <th>4</th>\n",
       "      <td>M1H</td>\n",
       "      <td>43.773136</td>\n",
       "      <td>-79.239476</td>\n",
       "    </tr>\n",
       "  </tbody>\n",
       "</table>\n",
       "</div>"
      ],
      "text/plain": [
       "  PostalCode   Latitude  Longitude\n",
       "0        M1B  43.806686 -79.194353\n",
       "1        M1C  43.784535 -79.160497\n",
       "2        M1E  43.763573 -79.188711\n",
       "3        M1G  43.770992 -79.216917\n",
       "4        M1H  43.773136 -79.239476"
      ]
     },
     "execution_count": 20,
     "metadata": {},
     "output_type": "execute_result"
    }
   ],
   "source": [
    "df2.head()"
   ]
  },
  {
   "cell_type": "code",
   "execution_count": 21,
   "metadata": {},
   "outputs": [
    {
     "data": {
      "text/html": [
       "<div>\n",
       "<style scoped>\n",
       "    .dataframe tbody tr th:only-of-type {\n",
       "        vertical-align: middle;\n",
       "    }\n",
       "\n",
       "    .dataframe tbody tr th {\n",
       "        vertical-align: top;\n",
       "    }\n",
       "\n",
       "    .dataframe thead th {\n",
       "        text-align: right;\n",
       "    }\n",
       "</style>\n",
       "<table border=\"1\" class=\"dataframe\">\n",
       "  <thead>\n",
       "    <tr style=\"text-align: right;\">\n",
       "      <th></th>\n",
       "      <th>PostalCode</th>\n",
       "      <th>Borough</th>\n",
       "      <th>Neighborhood</th>\n",
       "      <th>Latitude</th>\n",
       "      <th>Longitude</th>\n",
       "    </tr>\n",
       "  </thead>\n",
       "  <tbody>\n",
       "    <tr>\n",
       "      <th>0</th>\n",
       "      <td>M3A</td>\n",
       "      <td>North York</td>\n",
       "      <td>Parkwoods</td>\n",
       "      <td>43.753259</td>\n",
       "      <td>-79.329656</td>\n",
       "    </tr>\n",
       "    <tr>\n",
       "      <th>1</th>\n",
       "      <td>M4A</td>\n",
       "      <td>North York</td>\n",
       "      <td>Victoria Village</td>\n",
       "      <td>43.725882</td>\n",
       "      <td>-79.315572</td>\n",
       "    </tr>\n",
       "    <tr>\n",
       "      <th>2</th>\n",
       "      <td>M5A</td>\n",
       "      <td>Downtown Toronto</td>\n",
       "      <td>Regent Park, Harbourfront</td>\n",
       "      <td>43.654260</td>\n",
       "      <td>-79.360636</td>\n",
       "    </tr>\n",
       "    <tr>\n",
       "      <th>3</th>\n",
       "      <td>M6A</td>\n",
       "      <td>North York</td>\n",
       "      <td>Lawrence Manor, Lawrence Heights</td>\n",
       "      <td>43.718518</td>\n",
       "      <td>-79.464763</td>\n",
       "    </tr>\n",
       "    <tr>\n",
       "      <th>4</th>\n",
       "      <td>M7A</td>\n",
       "      <td>Queen's Park</td>\n",
       "      <td>Ontario Provincial Government</td>\n",
       "      <td>43.662301</td>\n",
       "      <td>-79.389494</td>\n",
       "    </tr>\n",
       "  </tbody>\n",
       "</table>\n",
       "</div>"
      ],
      "text/plain": [
       "  PostalCode           Borough                      Neighborhood   Latitude  \\\n",
       "0        M3A        North York                         Parkwoods  43.753259   \n",
       "1        M4A        North York                  Victoria Village  43.725882   \n",
       "2        M5A  Downtown Toronto         Regent Park, Harbourfront  43.654260   \n",
       "3        M6A        North York  Lawrence Manor, Lawrence Heights  43.718518   \n",
       "4        M7A      Queen's Park     Ontario Provincial Government  43.662301   \n",
       "\n",
       "   Longitude  \n",
       "0 -79.329656  \n",
       "1 -79.315572  \n",
       "2 -79.360636  \n",
       "3 -79.464763  \n",
       "4 -79.389494  "
      ]
     },
     "execution_count": 21,
     "metadata": {},
     "output_type": "execute_result"
    }
   ],
   "source": [
    "df3 = df.merge(df2, how='inner', on='PostalCode')\n",
    "\n",
    "df3.head()"
   ]
  },
  {
   "cell_type": "code",
   "execution_count": 22,
   "metadata": {},
   "outputs": [
    {
     "data": {
      "text/plain": [
       "(103, 5)"
      ]
     },
     "execution_count": 22,
     "metadata": {},
     "output_type": "execute_result"
    }
   ],
   "source": [
    "df3.shape"
   ]
  },
  {
   "cell_type": "code",
   "execution_count": null,
   "metadata": {},
   "outputs": [],
   "source": []
  }
 ],
 "metadata": {
  "kernelspec": {
   "display_name": "Python 3",
   "language": "python",
   "name": "python3"
  },
  "language_info": {
   "codemirror_mode": {
    "name": "ipython",
    "version": 3
   },
   "file_extension": ".py",
   "mimetype": "text/x-python",
   "name": "python",
   "nbconvert_exporter": "python",
   "pygments_lexer": "ipython3",
   "version": "3.8.5"
  }
 },
 "nbformat": 4,
 "nbformat_minor": 4
}
